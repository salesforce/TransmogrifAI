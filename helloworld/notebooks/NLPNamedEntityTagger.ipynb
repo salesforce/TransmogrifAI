{
 "cells": [
  {
   "cell_type": "markdown",
   "metadata": {},
   "source": [
    "### NLP : Named Entity Tagger in TransmogrifAI\n",
    "In this sample we will look at how to use TransmogrifAI to extract Names Entities : Person, Date and Organization.\n",
    "\n",
    "First we import the jars for `transmogrifai-core`, `spark-mllib` and `transmogrifai-models`. `transmogrifai-models` encapsulates OpenNLP models"
   ]
  },
  {
   "cell_type": "code",
   "execution_count": 1,
   "metadata": {},
   "outputs": [
    {
     "data": {
      "application/vnd.jupyter.widget-view+json": {
       "model_id": "",
       "version_major": 2,
       "version_minor": 0
      },
      "method": "display_data"
     },
     "metadata": {},
     "output_type": "display_data"
    },
    {
     "data": {
      "application/vnd.jupyter.widget-view+json": {
       "model_id": "7e059132-e848-47bf-9e06-78549522ef5b",
       "version_major": 2,
       "version_minor": 0
      },
      "method": "display_data"
     },
     "metadata": {},
     "output_type": "display_data"
    }
   ],
   "source": [
    "%classpath add mvn com.salesforce.transmogrifai transmogrifai-core_2.11 0.6.0"
   ]
  },
  {
   "cell_type": "code",
   "execution_count": 2,
   "metadata": {},
   "outputs": [
    {
     "data": {
      "application/vnd.jupyter.widget-view+json": {
       "model_id": "",
       "version_major": 2,
       "version_minor": 0
      },
      "method": "display_data"
     },
     "metadata": {},
     "output_type": "display_data"
    },
    {
     "data": {
      "application/vnd.jupyter.widget-view+json": {
       "model_id": "aace577b-fb4c-4777-be18-5c974d06195f",
       "version_major": 2,
       "version_minor": 0
      },
      "method": "display_data"
     },
     "metadata": {},
     "output_type": "display_data"
    }
   ],
   "source": [
    "%classpath add mvn org.apache.spark spark-mllib_2.11 2.3.2"
   ]
  },
  {
   "cell_type": "code",
   "execution_count": 12,
   "metadata": {},
   "outputs": [
    {
     "data": {
      "application/vnd.jupyter.widget-view+json": {
       "model_id": "",
       "version_major": 2,
       "version_minor": 0
      },
      "method": "display_data"
     },
     "metadata": {},
     "output_type": "display_data"
    }
   ],
   "source": [
    "%classpath add mvn com.salesforce.transmogrifai transmogrifai-models_2.11 0.6.0"
   ]
  },
  {
   "cell_type": "markdown",
   "metadata": {},
   "source": [
    "#### NameEntityRecognizer\n",
    "Name Entity: `NameEntityType` text recognizer class which encapsulates `com.salesforce.op.utils.text.OpenNLPAnalyzer`. OpenNLPAnalyzer loads Open NLP models from disk using `com.salesforce.op.utils.text.OpenNLPModels` class"
   ]
  },
  {
   "cell_type": "code",
   "execution_count": 13,
   "metadata": {},
   "outputs": [
    {
     "data": {
      "text/plain": [
       "import com.salesforce.op.stages.impl.feature.NameEntityRecognizer\n"
      ]
     },
     "execution_count": 13,
     "metadata": {},
     "output_type": "execute_result"
    }
   ],
   "source": [
    "import com.salesforce.op.stages.impl.feature.NameEntityRecognizer"
   ]
  },
  {
   "cell_type": "markdown",
   "metadata": {},
   "source": [
    "Create a Seq qhich is then fed into `NameEntityRecognizer.Analyzer.analyze(..)` to create tokens from plain text."
   ]
  },
  {
   "cell_type": "code",
   "execution_count": 15,
   "metadata": {},
   "outputs": [
    {
     "data": {
      "text/plain": [
       "[[TextList(Salesforce, was, founded, in, 1999, by, former, Oracle, executive, Marc, Benioff, ,, Parker, Harris, ,, Dave, Moellenhoff, ,, and, Frank, Dominguez, as, a, company, specializing, in, software, as, a, service, ., Harris, ,, Moellenhoff, ,, and, Dominguez, ,, three, software, developers, previously, at, consulting, firm, Left, Coast, Software, ,, were, introduced, to, Benioff, througha, friend, and, former, Oracle, colleague, Bobby, Yazdani, ., Harris, and, team, wrote, the, initial, sales, automation, software, ,, which, launched, to, its, first, customers, during, Sept-Nov, 1999, .)]]"
      ]
     },
     "execution_count": 15,
     "metadata": {},
     "output_type": "execute_result"
    }
   ],
   "source": [
    "import com.salesforce.op.features.types._\n",
    "import com.salesforce.op.utils.text.Language\n",
    "\n",
    "val input = Seq(\n",
    "    \"Salesforce was founded in 1999 by former Oracle executive Marc Benioff, Parker Harris, Dave Moellenhoff, and \" + \n",
    "    \"Frank Dominguez as a company specializing in software as a service. Harris, Moellenhoff, and Dominguez,\"+\n",
    "    \" three software developers previously at consulting firm Left Coast Software, were introduced to Benioff through\"+\n",
    "    \"a friend and former Oracle colleague Bobby Yazdani. Harris and team wrote the initial sales automation software,\"+\n",
    "    \" which launched to its first customers during Sept-Nov 1999.\"\n",
    "    )\n",
    "val tokens: Seq[TextList] = input.map(x => NameEntityRecognizer.Analyzer.analyze(x, Language.English).toTextList)"
   ]
  },
  {
   "cell_type": "markdown",
   "metadata": {},
   "source": [
    "Instantiate `OpenNLPNameEntityTagger` which is then used to tag tokens to `Person`, `Organization` or `Date`."
   ]
  },
  {
   "cell_type": "code",
   "execution_count": 23,
   "metadata": {},
   "outputs": [
    {
     "data": {
      "text/plain": [
       "com.salesforce.op.utils.text.OpenNLPNameEntityTagger@2a4edd6d"
      ]
     },
     "execution_count": 23,
     "metadata": {},
     "output_type": "execute_result"
    }
   ],
   "source": [
    "import com.salesforce.op.utils.text.OpenNLPNameEntityTagger\n",
    "import com.salesforce.op.utils.text.NameEntityType\n",
    "import com.salesforce.op.features.types._\n",
    "\n",
    "val nerTagger = new OpenNLPNameEntityTagger()"
   ]
  },
  {
   "cell_type": "markdown",
   "metadata": {},
   "source": [
    "#### Extract Person tags\n",
    "\n",
    "We extract by passing following values to `nerTagger` instance defined above\n",
    "\n",
    "`nerTagger.tag( token, Language.English, Seq(NameEntityType.Person)`"
   ]
  },
  {
   "cell_type": "code",
   "execution_count": 53,
   "metadata": {},
   "outputs": [
    {
     "data": {
      "text/plain": [
       "[[Map(Parker -> Set(Person), Dominguez -> Set(Person), Benioff -> Set(Person), Yazdani -> Set(Person), Frank -> Set(Person), Marc -> Set(Person), Bobby -> Set(Person), Moellenhoff -> Set(Person), Dave -> Set(Person), Harris -> Set(Person))]]"
      ]
     },
     "execution_count": 53,
     "metadata": {},
     "output_type": "execute_result"
    }
   ],
   "source": [
    "val personEntities = tokens.map { tokenInput => \n",
    "      nerTagger.tag(tokenInput.value, Language.English, Seq(NameEntityType.Person)).tokenTags\n",
    "}\n",
    "personEntities"
   ]
  },
  {
   "cell_type": "markdown",
   "metadata": {},
   "source": [
    "#### Extract Date"
   ]
  },
  {
   "cell_type": "code",
   "execution_count": 55,
   "metadata": {},
   "outputs": [
    {
     "data": {
      "text/plain": [
       "[[Map(1999 -> Set(Date))]]"
      ]
     },
     "execution_count": 55,
     "metadata": {},
     "output_type": "execute_result"
    }
   ],
   "source": [
    "val dateEntities = tokens.map { tokenInput => \n",
    "      nerTagger.tag(tokenInput.value, Language.English, Seq(NameEntityType.Date)).tokenTags\n",
    "}\n",
    "dateEntities"
   ]
  },
  {
   "cell_type": "markdown",
   "metadata": {},
   "source": [
    "#### Extract Organization"
   ]
  },
  {
   "cell_type": "code",
   "execution_count": 56,
   "metadata": {},
   "outputs": [
    {
     "data": {
      "text/plain": [
       "[[Map(Oracle -> Set(Organization))]]"
      ]
     },
     "execution_count": 56,
     "metadata": {},
     "output_type": "execute_result"
    }
   ],
   "source": [
    "val organizationEntities = tokens.map  { tokenInput => \n",
    "      nerTagger.tag(tokenInput.value, Language.English, Seq(NameEntityType.Organization)).tokenTags\n",
    "}\n",
    "organizationEntities"
   ]
  }
 ],
 "metadata": {
  "kernelspec": {
   "display_name": "Scala",
   "language": "scala",
   "name": "scala"
  },
  "language_info": {
   "codemirror_mode": "text/x-scala",
   "file_extension": ".scala",
   "mimetype": "",
   "name": "Scala",
   "nbconverter_exporter": "",
   "version": "2.11.12"
  },
  "toc": {
   "base_numbering": 1,
   "nav_menu": {},
   "number_sections": false,
   "sideBar": false,
   "skip_h1_title": false,
   "title_cell": "Table of Contents",
   "title_sidebar": "Contents",
   "toc_cell": false,
   "toc_position": {},
   "toc_section_display": false,
   "toc_window_display": false
  }
 },
 "nbformat": 4,
 "nbformat_minor": 2
}
