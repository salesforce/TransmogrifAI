{
 "cells": [
  {
   "cell_type": "markdown",
   "metadata": {},
   "source": [
    "## Op Titanic Simple Sample"
   ]
  },
  {
   "cell_type": "markdown",
   "metadata": {},
   "source": [
    "Here we describe a very simple TransmogrifAI workflow for predicting survivors in the often-cited Titanic dataset. The code for building and applying the Titanic model can be found here: Titanic Code, and the data can be found here: [Titanic Data](https://github.com/salesforce/op/blob/master/helloworld/src/main/resources/TitanicDataset/TitanicPassengersTrainData.csv).\n",
    "\n",
    "First we need to load transmogrifai and Spark Mllib jars\n"
   ]
  },
  {
   "cell_type": "code",
   "execution_count": null,
   "metadata": {},
   "outputs": [],
   "source": [
    "%classpath add mvn com.salesforce.transmogrifai transmogrifai-core_2.11 0.5.1"
   ]
  },
  {
   "cell_type": "code",
   "execution_count": null,
   "metadata": {},
   "outputs": [],
   "source": [
    "%classpath add mvn org.apache.spark spark-mllib_2.11 2.3.0"
   ]
  },
  {
   "cell_type": "markdown",
   "metadata": {},
   "source": [
    "Import relevant classes"
   ]
  },
  {
   "cell_type": "code",
   "execution_count": null,
   "metadata": {},
   "outputs": [],
   "source": [
    "import org.apache.spark.SparkConf\n",
    "import org.apache.spark.sql.SparkSession\n",
    "import org.apache.spark.SparkContext\n",
    "import org.apache.spark.sql.functions.udf\n",
    "\n",
    "import com.salesforce.op._\n",
    "import com.salesforce.op.features._\n",
    "import com.salesforce.op.features.types._\n",
    "import com.salesforce.op.stages.impl.classification._\n",
    "import com.salesforce.op.evaluators.Evaluators"
   ]
  },
  {
   "cell_type": "markdown",
   "metadata": {},
   "source": [
    "Instantiate a SparkSession"
   ]
  },
  {
   "cell_type": "code",
   "execution_count": null,
   "metadata": {},
   "outputs": [],
   "source": [
    "val conf = new SparkConf().setMaster(\"local[*]\").setAppName(\"TitanicPrediction\")\n",
    "implicit val spark = SparkSession.builder.config(conf).getOrCreate()"
   ]
  },
  {
   "cell_type": "markdown",
   "metadata": {},
   "source": [
    "Let us create a case class to describe the schema for the data:"
   ]
  },
  {
   "cell_type": "code",
   "execution_count": null,
   "metadata": {},
   "outputs": [],
   "source": [
    "case class Passenger(\n",
    "  id: Int,\n",
    "  survived: Int,\n",
    "  pClass: Option[Int],\n",
    "  name: Option[String],\n",
    "  sex: Option[String],\n",
    "  age: Option[Double],\n",
    "  sibSp: Option[Int],\n",
    "  parCh: Option[Int],\n",
    "  ticket: Option[String],\n",
    "  fare: Option[Double],\n",
    "  cabin: Option[String],\n",
    "  embarked: Option[String]\n",
    ")"
   ]
  },
  {
   "cell_type": "markdown",
   "metadata": {},
   "source": [
    "We then define the set of raw features that we would like to extract from the data. The raw features are defined using [FeatureBuilders](https://docs.transmogrif.ai/Developer-Guide#featurebuilders), and are strongly typed. TransmogrifAI supports the following basic feature types: `Text`, `Numeric`, `Vector`, `List` , `Set`, `Map`. \n",
    "In addition it supports many specific feature types which extend these base types: Email extends Text; Integral, Real and Binary extend Numeric; Currency and Percentage extend Real. For a complete view of the types supported see the Type Hierarchy and Automatic Feature Engineering section in the Documentation.\n",
    "\n",
    "Basic `FeatureBuilders` will be created for you if you use the TransmogrifAI CLI to bootstrap your project as described here. However, it is often useful to edit this code to customize feature generation and take full advantage of the Feature types available (selecting the appropriate type will improve automatic feature engineering steps).\n",
    "\n",
    "When defining raw features, specify the extract logic to be applied to the raw data, and also annotate the features as either predictor or response variables via the FeatureBuilders:"
   ]
  },
  {
   "cell_type": "code",
   "execution_count": null,
   "metadata": {},
   "outputs": [],
   "source": [
    "val survived = FeatureBuilder.RealNN[Passenger].extract(_.survived.toRealNN).asResponse\n",
    "val pClass = FeatureBuilder.PickList[Passenger].extract(_.pClass.map(_.toString).toPickList).asPredictor\n",
    "val name = FeatureBuilder.Text[Passenger].extract(_.name.toText).asPredictor\n",
    "val sex = FeatureBuilder.PickList[Passenger].extract(_.sex.map(_.toString).toPickList).asPredictor\n",
    "val age = FeatureBuilder.Real[Passenger].extract(_.age.toReal).asPredictor\n",
    "val sibSp = FeatureBuilder.Integral[Passenger].extract(_.sibSp.toIntegral).asPredictor\n",
    "val parCh = FeatureBuilder.Integral[Passenger].extract(_.parCh.toIntegral).asPredictor\n",
    "val ticket = FeatureBuilder.PickList[Passenger].extract(_.ticket.map(_.toString).toPickList).asPredictor\n",
    "val fare = FeatureBuilder.Real[Passenger].extract(_.fare.toReal).asPredictor\n",
    "val cabin = FeatureBuilder.PickList[Passenger].extract(_.cabin.map(_.toString).toPickList).asPredictor\n",
    "val embarked = FeatureBuilder.PickList[Passenger].extract(_.embarked.map(_.toString).toPickList).asPredictor"
   ]
  },
  {
   "cell_type": "markdown",
   "metadata": {},
   "source": [
    "Now that the raw features have been defined, we go ahead and define how we would like to manipulate them via Stages (Transformers and Estimators). A TransmogrifAI Stage takes one or more Features, and returns a new Feature. TransmogrifAI provides numerous handy short cuts for specifying common feature manipulations. For basic arithmetic operations, you can just use “+”, “-“, “*” and “/”. In addition, shortcuts like “normalize”, “pivot” and “map” are also available."
   ]
  },
  {
   "cell_type": "code",
   "execution_count": null,
   "metadata": {},
   "outputs": [],
   "source": [
    "val familySize = sibSp + parCh + 1\n",
    "val estimatedCostOfTickets = familySize * fare\n",
    "val pivotedSex = sex.pivot()\n",
    "val normedAge = age.fillMissingWithMean().zNormalize()\n",
    "val ageGroup = age.map[PickList](_.value.map(v => if (v > 18) \"adult\" else \"child\").toPickList)\n"
   ]
  },
  {
   "cell_type": "markdown",
   "metadata": {},
   "source": [
    "See [Creating Shortcuts for Transformers and Estimators](https://docs.transmogrif.ai/en/stable/developer-guide#creating-shortcuts-for-transformers-and-estimators) for more documentation on how shortcuts for stages can be created. We now define a Feature of type `Vector`, that is a vector representation of all the features we would like to use as predictors in our workflow."
   ]
  },
  {
   "cell_type": "code",
   "execution_count": null,
   "metadata": {},
   "outputs": [],
   "source": [
    "val passengerFeatures = Seq(\n",
    "      pClass, name, age, sibSp, parCh, ticket,\n",
    "      cabin, embarked, familySize, estimatedCostOfTickets,\n",
    "      pivotedSex, ageGroup\n",
    "    ).transmogrify()"
   ]
  },
  {
   "cell_type": "markdown",
   "metadata": {},
   "source": [
    "The `.transmogrify()` shortcut is a special AutoML Estimator that applies a default set of transformations to all the specified inputs and combines them into a single vector. This is in essence the automatic feature engineering Stage of TransmogrifAI. This stage can be discarded in favor of hand-tuned feature engineering and manual vector creation followed by combination using the `VectorsCombiner` `Transformer` (short-hand `Seq(....).combine()`) if the user desires to have complete control over feature engineering.\n",
    "\n",
    "The next stage applies another powerful AutoML Estimator — the `SanityChecker`. The `SanityChecker` applies a variety of statistical tests to the data based on Feature types and discards predictors that are indicative of label leakage or that show little to no predictive power. This is in essence the automatic feature selection Stage of TransmogrifAI:"
   ]
  },
  {
   "cell_type": "code",
   "execution_count": null,
   "metadata": {},
   "outputs": [],
   "source": [
    "val sanityCheck = true\n",
    "val finalFeatures = if (sanityCheck) survived.sanityCheck(passengerFeatures) else passengerFeatures"
   ]
  },
  {
   "cell_type": "markdown",
   "metadata": {},
   "source": [
    "Finally, the `OpLogisticRegression` Estimator is applied to derive a new triplet of Features which are essentially probabilities and predictions returned by the logistic regression algorithm:"
   ]
  },
  {
   "cell_type": "code",
   "execution_count": null,
   "metadata": {},
   "outputs": [],
   "source": [
    "import com.salesforce.op.stages.impl.classification.BinaryClassificationModelSelector\n",
    "import com.salesforce.op.stages.impl.classification.BinaryClassificationModelsToTry._\n",
    "\n",
    "val prediction =\n",
    "      BinaryClassificationModelSelector.withTrainValidationSplit(\n",
    "        modelTypesToUse = Seq(OpLogisticRegression)\n",
    "      ).setInput(survived, finalFeatures).getOutput()\n"
   ]
  },
  {
   "cell_type": "code",
   "execution_count": null,
   "metadata": {},
   "outputs": [],
   "source": [
    "val evaluator = Evaluators.BinaryClassification().setLabelCol(survived).setPredictionCol(prediction)"
   ]
  },
  {
   "cell_type": "markdown",
   "metadata": {},
   "source": [
    "Notice that everything we’ve done so far has been purely at the level of definitions. We have defined how we would like to extract our raw features from data of type `Passenger`, and we have defined how we would like to manipulate them. In order to actually manifest the data described by these features, we need to add them to a workflow and attach a data source to the workflow.\n",
    "\n",
    "Please note the `trainFilePath` is the derived path from folder where host folder is mounted as a volume (/home/beakerx/helloworld) in this case. This can be changed as well depending on the location and volume director you are mounting the data from. You can also create a new DataReader with a new path."
   ]
  },
  {
   "cell_type": "code",
   "execution_count": null,
   "metadata": {},
   "outputs": [],
   "source": [
    "import spark.implicits._ // Needed for Encoders for the Passenger case class\n",
    "import com.salesforce.op.readers.DataReaders\n",
    "\n",
    "val trainFilePath = \"/home/beakerx/helloworld/src/main/resources/TitanicDataset/TitanicPassengersTrainData.csv\"\n",
    "    // Define a way to read data into our Passenger class from our CSV file\n",
    "val trainDataReader = DataReaders.Simple.csvCase[Passenger](\n",
    "      path = Option(trainFilePath),\n",
    "      key = _.id.toString\n",
    "    )"
   ]
  },
  {
   "cell_type": "code",
   "execution_count": null,
   "metadata": {},
   "outputs": [],
   "source": [
    "val workflow =\n",
    "      new OpWorkflow()\n",
    "        .setResultFeatures(survived, prediction)\n",
    "        .setReader(trainDataReader)"
   ]
  },
  {
   "cell_type": "markdown",
   "metadata": {},
   "source": [
    "When we now call ‘train’ on this workflow, it automatically computes and executes the entire DAG of Stages needed to compute the features survived, prediction, rawPrediction, and prob, fitting all the estimators on the training data in the process. Calling score on the fitted workflow then transforms the underlying training data to produce a DataFrame with the all the features manifested. The score method can optionally be passed an evaluator that produces metrics."
   ]
  },
  {
   "cell_type": "code",
   "execution_count": null,
   "metadata": {},
   "outputs": [],
   "source": [
    "val fittedWorkflow = workflow.train()\n",
    "println(\"Summary:\\n\" + fittedWorkflow.summaryPretty())"
   ]
  },
  {
   "cell_type": "markdown",
   "metadata": {},
   "source": [
    "After model has been fitted we use `scoreAndEvaluate()` function to evaluate the metrics"
   ]
  },
  {
   "cell_type": "code",
   "execution_count": null,
   "metadata": {},
   "outputs": [],
   "source": [
    "println(\"Scoring the model:\\n=================\")\n",
    "val (dataframe, metrics) = fittedWorkflow.scoreAndEvaluate(evaluator = evaluator)\n",
    "\n",
    "println(\"Transformed dataframe columns:\\n--------------------------\")\n",
    "dataframe.columns.foreach(println)\n",
    "\n",
    "println(\"Metrics:\\n------------\")\n",
    "println(metrics)"
   ]
  }
 ],
 "metadata": {
  "kernelspec": {
   "display_name": "Scala",
   "language": "scala",
   "name": "scala"
  },
  "language_info": {
   "codemirror_mode": "text/x-scala",
   "file_extension": ".scala",
   "mimetype": "",
   "name": "Scala",
   "nbconverter_exporter": "",
   "version": "2.11.12"
  },
  "toc": {
   "base_numbering": 1,
   "nav_menu": {},
   "number_sections": false,
   "sideBar": false,
   "skip_h1_title": false,
   "title_cell": "Table of Contents",
   "title_sidebar": "Contents",
   "toc_cell": false,
   "toc_position": {},
   "toc_section_display": false,
   "toc_window_display": false
  }
 },
 "nbformat": 4,
 "nbformat_minor": 2
}
